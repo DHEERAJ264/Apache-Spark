{
  "nbformat": 4,
  "nbformat_minor": 0,
  "metadata": {
    "colab": {
      "name": "spark_transformations.ipynb",
      "version": "0.3.2",
      "provenance": [],
      "collapsed_sections": [],
      "include_colab_link": true
    },
    "kernelspec": {
      "name": "python3",
      "display_name": "Python 3"
    }
  },
  "cells": [
    {
      "cell_type": "markdown",
      "metadata": {
        "id": "view-in-github",
        "colab_type": "text"
      },
      "source": [
        "<a href=\"https://colab.research.google.com/github/DHEERAJ264/Apache-Spark/blob/master/spark_transformations.ipynb\" target=\"_parent\"><img src=\"https://colab.research.google.com/assets/colab-badge.svg\" alt=\"Open In Colab\"/></a>"
      ]
    },
    {
      "cell_type": "code",
      "metadata": {
        "id": "yyc4C-12GI1s",
        "colab_type": "code",
        "colab": {
          "base_uri": "https://localhost:8080/",
          "height": 256
        },
        "outputId": "c3badfb2-b8ea-4457-bb6f-dd38191367b2"
      },
      "source": [
        "!pip install pyspark\n"
      ],
      "execution_count": 2,
      "outputs": [
        {
          "output_type": "stream",
          "text": [
            "Collecting pyspark\n",
            "\u001b[?25l  Downloading https://files.pythonhosted.org/packages/87/21/f05c186f4ddb01d15d0ddc36ef4b7e3cedbeb6412274a41f26b55a650ee5/pyspark-2.4.4.tar.gz (215.7MB)\n",
            "\u001b[K     |████████████████████████████████| 215.7MB 103kB/s \n",
            "\u001b[?25hCollecting py4j==0.10.7 (from pyspark)\n",
            "\u001b[?25l  Downloading https://files.pythonhosted.org/packages/e3/53/c737818eb9a7dc32a7cd4f1396e787bd94200c3997c72c1dbe028587bd76/py4j-0.10.7-py2.py3-none-any.whl (197kB)\n",
            "\u001b[K     |████████████████████████████████| 204kB 39.9MB/s \n",
            "\u001b[?25hBuilding wheels for collected packages: pyspark\n",
            "  Building wheel for pyspark (setup.py) ... \u001b[?25l\u001b[?25hdone\n",
            "  Created wheel for pyspark: filename=pyspark-2.4.4-py2.py3-none-any.whl size=216130387 sha256=001f66009882c60a1567c0d183b95516a0fa97d0c3635699a0cb49fb3c83b44b\n",
            "  Stored in directory: /root/.cache/pip/wheels/ab/09/4d/0d184230058e654eb1b04467dbc1292f00eaa186544604b471\n",
            "Successfully built pyspark\n",
            "Installing collected packages: py4j, pyspark\n",
            "Successfully installed py4j-0.10.7 pyspark-2.4.4\n"
          ],
          "name": "stdout"
        }
      ]
    },
    {
      "cell_type": "code",
      "metadata": {
        "id": "b3YEg5drGd4W",
        "colab_type": "code",
        "colab": {}
      },
      "source": [
        "from pyspark.sql.types import *\n",
        "from pyspark.sql.functions import *\n",
        "\n",
        "\n",
        "from pyspark.context import SparkContext\n",
        "from pyspark.sql.session import SparkSession\n",
        "sc = SparkContext('local')\n",
        "spark = SparkSession(sc)\n"
      ],
      "execution_count": 0,
      "outputs": []
    },
    {
      "cell_type": "code",
      "metadata": {
        "id": "8Xh5JAQpIs_q",
        "colab_type": "code",
        "colab": {}
      },
      "source": [
        "df = spark.read.json(\"/content/persons.json\")"
      ],
      "execution_count": 0,
      "outputs": []
    },
    {
      "cell_type": "code",
      "metadata": {
        "id": "G40tkewmI-V9",
        "colab_type": "code",
        "colab": {
          "base_uri": "https://localhost:8080/",
          "height": 118
        },
        "outputId": "220e3d26-bacf-41c8-f2dc-986406d7b8b2"
      },
      "source": [
        "df.printSchema()"
      ],
      "execution_count": 6,
      "outputs": [
        {
          "output_type": "stream",
          "text": [
            "root\n",
            " |-- age: long (nullable = true)\n",
            " |-- height: long (nullable = true)\n",
            " |-- name: string (nullable = true)\n",
            " |-- sex: string (nullable = true)\n",
            "\n"
          ],
          "name": "stdout"
        }
      ]
    },
    {
      "cell_type": "code",
      "metadata": {
        "id": "1HvnHbsmJRwv",
        "colab_type": "code",
        "colab": {
          "base_uri": "https://localhost:8080/",
          "height": 203
        },
        "outputId": "d4038a01-b206-4a57-ac52-6d071e428d8d"
      },
      "source": [
        "df.show()"
      ],
      "execution_count": 7,
      "outputs": [
        {
          "output_type": "stream",
          "text": [
            "+---+------+-------+------+\n",
            "|age|height|   name|   sex|\n",
            "+---+------+-------+------+\n",
            "| 14|   156|  Alice|female|\n",
            "| 21|   181|    Bob|  male|\n",
            "| 27|   176|Charlie|  male|\n",
            "| 24|   167|    Eve|female|\n",
            "| 19|   172|Frances|female|\n",
            "| 31|   191| George|  male|\n",
            "+---+------+-------+------+\n",
            "\n"
          ],
          "name": "stdout"
        }
      ]
    },
    {
      "cell_type": "code",
      "metadata": {
        "id": "FAobBd3eJTDT",
        "colab_type": "code",
        "colab": {}
      },
      "source": [
        "persons = spark.read \\\n",
        "          .option('inferSchema',True) \\\n",
        "          .option('header',True) \\\n",
        "           .csv('/content/persons_header.csv')"
      ],
      "execution_count": 0,
      "outputs": []
    },
    {
      "cell_type": "code",
      "metadata": {
        "id": "r3rxlck-JyKz",
        "colab_type": "code",
        "colab": {
          "base_uri": "https://localhost:8080/",
          "height": 203
        },
        "outputId": "fb71a2f5-afd4-4280-85f5-f835f218d0a0"
      },
      "source": [
        "persons.show()"
      ],
      "execution_count": 9,
      "outputs": [
        {
          "output_type": "stream",
          "text": [
            "+---+------+-------+------+\n",
            "|age|height|   name|   sex|\n",
            "+---+------+-------+------+\n",
            "| 23|   156|  Alice|female|\n",
            "| 21|   181|    Bob|  male|\n",
            "| 27|   176|Charlie|  male|\n",
            "| 24|   167|    Eve|female|\n",
            "| 19|   172|Frances|female|\n",
            "| 31|   191| George|female|\n",
            "+---+------+-------+------+\n",
            "\n"
          ],
          "name": "stdout"
        }
      ]
    },
    {
      "cell_type": "code",
      "metadata": {
        "id": "jX5dU1ZJJ0Bt",
        "colab_type": "code",
        "colab": {
          "base_uri": "https://localhost:8080/",
          "height": 118
        },
        "outputId": "75ffabdb-11e3-4e54-96e1-02671478456f"
      },
      "source": [
        "persons.printSchema()\n"
      ],
      "execution_count": 10,
      "outputs": [
        {
          "output_type": "stream",
          "text": [
            "root\n",
            " |-- age: integer (nullable = true)\n",
            " |-- height: integer (nullable = true)\n",
            " |-- name: string (nullable = true)\n",
            " |-- sex: string (nullable = true)\n",
            "\n"
          ],
          "name": "stdout"
        }
      ]
    },
    {
      "cell_type": "code",
      "metadata": {
        "id": "3WdLknQIJ1zT",
        "colab_type": "code",
        "colab": {
          "base_uri": "https://localhost:8080/",
          "height": 203
        },
        "outputId": "c0b72313-5111-4590-9f85-1ccd1cc84a54"
      },
      "source": [
        "result = persons.select(persons.name,persons.age)\n",
        "result.show()"
      ],
      "execution_count": 11,
      "outputs": [
        {
          "output_type": "stream",
          "text": [
            "+-------+---+\n",
            "|   name|age|\n",
            "+-------+---+\n",
            "|  Alice| 23|\n",
            "|    Bob| 21|\n",
            "|Charlie| 27|\n",
            "|    Eve| 24|\n",
            "|Frances| 19|\n",
            "| George| 31|\n",
            "+-------+---+\n",
            "\n"
          ],
          "name": "stdout"
        }
      ]
    },
    {
      "cell_type": "code",
      "metadata": {
        "id": "JaSyxVoNJ67g",
        "colab_type": "code",
        "colab": {}
      },
      "source": [
        "result = persons.select(persons.name,upper(persons.name))"
      ],
      "execution_count": 0,
      "outputs": []
    },
    {
      "cell_type": "code",
      "metadata": {
        "id": "wUSYc0PoQ4Or",
        "colab_type": "code",
        "colab": {
          "base_uri": "https://localhost:8080/",
          "height": 203
        },
        "outputId": "09526db4-f63d-4dae-9c83-9b19077c2fbc"
      },
      "source": [
        "result.show()"
      ],
      "execution_count": 13,
      "outputs": [
        {
          "output_type": "stream",
          "text": [
            "+-------+-----------+\n",
            "|   name|upper(name)|\n",
            "+-------+-----------+\n",
            "|  Alice|      ALICE|\n",
            "|    Bob|        BOB|\n",
            "|Charlie|    CHARLIE|\n",
            "|    Eve|        EVE|\n",
            "|Frances|    FRANCES|\n",
            "| George|     GEORGE|\n",
            "+-------+-----------+\n",
            "\n"
          ],
          "name": "stdout"
        }
      ]
    },
    {
      "cell_type": "code",
      "metadata": {
        "id": "XhbGoxQaQ66x",
        "colab_type": "code",
        "colab": {}
      },
      "source": [
        "result_alias = persons.select(persons.name,upper(persons.name)).alias('names_new')"
      ],
      "execution_count": 0,
      "outputs": []
    },
    {
      "cell_type": "code",
      "metadata": {
        "id": "zb1bvRCORHG0",
        "colab_type": "code",
        "colab": {
          "base_uri": "https://localhost:8080/",
          "height": 203
        },
        "outputId": "eee2ecb6-cedb-4a42-87da-2754b2f2cb39"
      },
      "source": [
        "result_alias.show()"
      ],
      "execution_count": 15,
      "outputs": [
        {
          "output_type": "stream",
          "text": [
            "+-------+-----------+\n",
            "|   name|upper(name)|\n",
            "+-------+-----------+\n",
            "|  Alice|      ALICE|\n",
            "|    Bob|        BOB|\n",
            "|Charlie|    CHARLIE|\n",
            "|    Eve|        EVE|\n",
            "|Frances|    FRANCES|\n",
            "| George|     GEORGE|\n",
            "+-------+-----------+\n",
            "\n"
          ],
          "name": "stdout"
        }
      ]
    },
    {
      "cell_type": "code",
      "metadata": {
        "id": "UhSd82daRNON",
        "colab_type": "code",
        "colab": {}
      },
      "source": [
        "result_alias = persons.select(persons.name,(persons.age**2).alias('age_sqr'))"
      ],
      "execution_count": 0,
      "outputs": []
    },
    {
      "cell_type": "code",
      "metadata": {
        "id": "3RGQy3dPRfwD",
        "colab_type": "code",
        "colab": {
          "base_uri": "https://localhost:8080/",
          "height": 203
        },
        "outputId": "9b7d13de-29f4-4e76-c024-a59e6c3b17a8"
      },
      "source": [
        "result_alias.show()"
      ],
      "execution_count": 17,
      "outputs": [
        {
          "output_type": "stream",
          "text": [
            "+-------+-------+\n",
            "|   name|age_sqr|\n",
            "+-------+-------+\n",
            "|  Alice|  529.0|\n",
            "|    Bob|  441.0|\n",
            "|Charlie|  729.0|\n",
            "|    Eve|  576.0|\n",
            "|Frances|  361.0|\n",
            "| George|  961.0|\n",
            "+-------+-------+\n",
            "\n"
          ],
          "name": "stdout"
        }
      ]
    },
    {
      "cell_type": "code",
      "metadata": {
        "id": "i2LAK5FuRiQj",
        "colab_type": "code",
        "colab": {
          "base_uri": "https://localhost:8080/",
          "height": 203
        },
        "outputId": "0695f0ca-58fa-403d-f1ec-6337a21acbef"
      },
      "source": [
        "result = persons.select(concat(when(persons.sex == 'male', \"Mr \").otherwise(\"Mrs \"), persons.name).alias(\"salutation\"))\n",
        "result.show()"
      ],
      "execution_count": 18,
      "outputs": [
        {
          "output_type": "stream",
          "text": [
            "+-----------+\n",
            "| salutation|\n",
            "+-----------+\n",
            "|  Mrs Alice|\n",
            "|     Mr Bob|\n",
            "| Mr Charlie|\n",
            "|    Mrs Eve|\n",
            "|Mrs Frances|\n",
            "| Mrs George|\n",
            "+-----------+\n",
            "\n"
          ],
          "name": "stdout"
        }
      ]
    },
    {
      "cell_type": "code",
      "metadata": {
        "id": "-IhCVAHOVFja",
        "colab_type": "code",
        "colab": {
          "base_uri": "https://localhost:8080/",
          "height": 203
        },
        "outputId": "7764d993-1d77-4d42-f96b-57e14f5e7db4"
      },
      "source": [
        "result = persons.select(concat(lit('Name:'), persons.name, lit(' Age:'), persons.age).alias('text'))\n",
        "result.show()"
      ],
      "execution_count": 19,
      "outputs": [
        {
          "output_type": "stream",
          "text": [
            "+-------------------+\n",
            "|               text|\n",
            "+-------------------+\n",
            "|  Name:Alice Age:23|\n",
            "|    Name:Bob Age:21|\n",
            "|Name:Charlie Age:27|\n",
            "|    Name:Eve Age:24|\n",
            "|Name:Frances Age:19|\n",
            "| Name:George Age:31|\n",
            "+-------------------+\n",
            "\n"
          ],
          "name": "stdout"
        }
      ]
    },
    {
      "cell_type": "code",
      "metadata": {
        "id": "gsm4aoGEGM-d",
        "colab_type": "code",
        "colab": {
          "base_uri": "https://localhost:8080/",
          "height": 203
        },
        "outputId": "33a5de6a-09e9-4356-901f-5b8dd38c9393"
      },
      "source": [
        "result2 = result.drop(\"name\",\"age\")\n",
        "result2.show()"
      ],
      "execution_count": 20,
      "outputs": [
        {
          "output_type": "stream",
          "text": [
            "+-------------------+\n",
            "|               text|\n",
            "+-------------------+\n",
            "|  Name:Alice Age:23|\n",
            "|    Name:Bob Age:21|\n",
            "|Name:Charlie Age:27|\n",
            "|    Name:Eve Age:24|\n",
            "|Name:Frances Age:19|\n",
            "| Name:George Age:31|\n",
            "+-------------------+\n",
            "\n"
          ],
          "name": "stdout"
        }
      ]
    },
    {
      "cell_type": "code",
      "metadata": {
        "id": "zEO8QkQjKv_U",
        "colab_type": "code",
        "colab": {
          "base_uri": "https://localhost:8080/",
          "height": 169
        },
        "outputId": "6addf27c-7a45-4ef7-81cc-6466da6cc044"
      },
      "source": [
        "result = persons.filter(persons.age > 22)\n",
        "result.show()"
      ],
      "execution_count": 21,
      "outputs": [
        {
          "output_type": "stream",
          "text": [
            "+---+------+-------+------+\n",
            "|age|height|   name|   sex|\n",
            "+---+------+-------+------+\n",
            "| 23|   156|  Alice|female|\n",
            "| 27|   176|Charlie|  male|\n",
            "| 24|   167|    Eve|female|\n",
            "| 31|   191| George|female|\n",
            "+---+------+-------+------+\n",
            "\n"
          ],
          "name": "stdout"
        }
      ]
    },
    {
      "cell_type": "code",
      "metadata": {
        "id": "c5gJMx-6Kz1K",
        "colab_type": "code",
        "colab": {
          "base_uri": "https://localhost:8080/",
          "height": 152
        },
        "outputId": "1c1d9678-ba95-44fe-e3ce-a208a1ab1060"
      },
      "source": [
        "df = spark.createDataFrame([('Bob',),('Alice',),('Bob',)], ['name'])\n",
        "df.show()"
      ],
      "execution_count": 22,
      "outputs": [
        {
          "output_type": "stream",
          "text": [
            "+-----+\n",
            "| name|\n",
            "+-----+\n",
            "|  Bob|\n",
            "|Alice|\n",
            "|  Bob|\n",
            "+-----+\n",
            "\n"
          ],
          "name": "stdout"
        }
      ]
    },
    {
      "cell_type": "code",
      "metadata": {
        "id": "6JZoqI8oK7SG",
        "colab_type": "code",
        "colab": {
          "base_uri": "https://localhost:8080/",
          "height": 34
        },
        "outputId": "1fde9a3f-0a8e-49de-bb6c-91e5c0b82c12"
      },
      "source": [
        "df.distinct()"
      ],
      "execution_count": 23,
      "outputs": [
        {
          "output_type": "execute_result",
          "data": {
            "text/plain": [
              "DataFrame[name: string]"
            ]
          },
          "metadata": {
            "tags": []
          },
          "execution_count": 23
        }
      ]
    },
    {
      "cell_type": "code",
      "metadata": {
        "id": "bsNyeSKqMmbX",
        "colab_type": "code",
        "colab": {
          "base_uri": "https://localhost:8080/",
          "height": 152
        },
        "outputId": "69c6ebb1-183f-459e-b62e-73a7ec0670f1"
      },
      "source": [
        "df.show()"
      ],
      "execution_count": 24,
      "outputs": [
        {
          "output_type": "stream",
          "text": [
            "+-----+\n",
            "| name|\n",
            "+-----+\n",
            "|  Bob|\n",
            "|Alice|\n",
            "|  Bob|\n",
            "+-----+\n",
            "\n"
          ],
          "name": "stdout"
        }
      ]
    },
    {
      "cell_type": "code",
      "metadata": {
        "id": "rLuulzG3Mnh9",
        "colab_type": "code",
        "colab": {}
      },
      "source": [
        ""
      ],
      "execution_count": 0,
      "outputs": []
    }
  ]
}