{
  "nbformat": 4,
  "nbformat_minor": 0,
  "metadata": {
    "colab": {
      "name": "spark_transformations.ipynb",
      "version": "0.3.2",
      "provenance": [],
      "collapsed_sections": [],
      "include_colab_link": true
    },
    "kernelspec": {
      "name": "python3",
      "display_name": "Python 3"
    }
  },
  "cells": [
    {
      "cell_type": "markdown",
      "metadata": {
        "id": "view-in-github",
        "colab_type": "text"
      },
      "source": [
        "<a href=\"https://colab.research.google.com/github/DHEERAJ264/Apache-Spark/blob/master/spark_transformations.ipynb\" target=\"_parent\"><img src=\"https://colab.research.google.com/assets/colab-badge.svg\" alt=\"Open In Colab\"/></a>"
      ]
    },
    {
      "cell_type": "code",
      "metadata": {
        "id": "yyc4C-12GI1s",
        "colab_type": "code",
        "colab": {
          "base_uri": "https://localhost:8080/",
          "height": 256
        },
        "outputId": "bc46c24b-9dc3-4359-9412-da2244086ee9"
      },
      "source": [
        "!pip install pyspark\n"
      ],
      "execution_count": 1,
      "outputs": [
        {
          "output_type": "stream",
          "text": [
            "Collecting pyspark\n",
            "\u001b[?25l  Downloading https://files.pythonhosted.org/packages/87/21/f05c186f4ddb01d15d0ddc36ef4b7e3cedbeb6412274a41f26b55a650ee5/pyspark-2.4.4.tar.gz (215.7MB)\n",
            "\u001b[K     |████████████████████████████████| 215.7MB 124kB/s \n",
            "\u001b[?25hCollecting py4j==0.10.7 (from pyspark)\n",
            "\u001b[?25l  Downloading https://files.pythonhosted.org/packages/e3/53/c737818eb9a7dc32a7cd4f1396e787bd94200c3997c72c1dbe028587bd76/py4j-0.10.7-py2.py3-none-any.whl (197kB)\n",
            "\u001b[K     |████████████████████████████████| 204kB 41.8MB/s \n",
            "\u001b[?25hBuilding wheels for collected packages: pyspark\n",
            "  Building wheel for pyspark (setup.py) ... \u001b[?25l\u001b[?25hdone\n",
            "  Created wheel for pyspark: filename=pyspark-2.4.4-py2.py3-none-any.whl size=216130387 sha256=4a999c6cc72a1a66ad41a45342792d6a0470edce565d252288634fa9510363e3\n",
            "  Stored in directory: /root/.cache/pip/wheels/ab/09/4d/0d184230058e654eb1b04467dbc1292f00eaa186544604b471\n",
            "Successfully built pyspark\n",
            "Installing collected packages: py4j, pyspark\n",
            "Successfully installed py4j-0.10.7 pyspark-2.4.4\n"
          ],
          "name": "stdout"
        }
      ]
    },
    {
      "cell_type": "code",
      "metadata": {
        "id": "b3YEg5drGd4W",
        "colab_type": "code",
        "colab": {}
      },
      "source": [
        "from pyspark.sql.types import *\n",
        "from pyspark.sql.functions import *\n",
        "\n",
        "\n",
        "from pyspark.context import SparkContext\n",
        "from pyspark.sql.session import SparkSession\n",
        "sc = SparkContext('local')\n",
        "spark = SparkSession(sc)\n"
      ],
      "execution_count": 0,
      "outputs": []
    },
    {
      "cell_type": "code",
      "metadata": {
        "id": "8Xh5JAQpIs_q",
        "colab_type": "code",
        "colab": {}
      },
      "source": [
        "df = spark.read.json(\"/content/persons.json\")"
      ],
      "execution_count": 0,
      "outputs": []
    },
    {
      "cell_type": "code",
      "metadata": {
        "id": "G40tkewmI-V9",
        "colab_type": "code",
        "colab": {
          "base_uri": "https://localhost:8080/",
          "height": 118
        },
        "outputId": "b66c30f5-1a03-42d3-bbb4-08bbed1b0934"
      },
      "source": [
        "df.printSchema()"
      ],
      "execution_count": 8,
      "outputs": [
        {
          "output_type": "stream",
          "text": [
            "root\n",
            " |-- age: long (nullable = true)\n",
            " |-- height: long (nullable = true)\n",
            " |-- name: string (nullable = true)\n",
            " |-- sex: string (nullable = true)\n",
            "\n"
          ],
          "name": "stdout"
        }
      ]
    },
    {
      "cell_type": "code",
      "metadata": {
        "id": "1HvnHbsmJRwv",
        "colab_type": "code",
        "colab": {
          "base_uri": "https://localhost:8080/",
          "height": 203
        },
        "outputId": "f15260ea-fe03-460b-a3bd-38b0590e6928"
      },
      "source": [
        "df.show()"
      ],
      "execution_count": 9,
      "outputs": [
        {
          "output_type": "stream",
          "text": [
            "+---+------+-------+------+\n",
            "|age|height|   name|   sex|\n",
            "+---+------+-------+------+\n",
            "| 14|   156|  Alice|female|\n",
            "| 21|   181|    Bob|  male|\n",
            "| 27|   176|Charlie|  male|\n",
            "| 24|   167|    Eve|female|\n",
            "| 19|   172|Frances|female|\n",
            "| 31|   191| George|  male|\n",
            "+---+------+-------+------+\n",
            "\n"
          ],
          "name": "stdout"
        }
      ]
    },
    {
      "cell_type": "code",
      "metadata": {
        "id": "FAobBd3eJTDT",
        "colab_type": "code",
        "colab": {}
      },
      "source": [
        "persons = spark.read \\\n",
        "          .option('inferSchema',True) \\\n",
        "          .option('header',True) \\\n",
        "           .csv('/content/persons_header.csv')"
      ],
      "execution_count": 0,
      "outputs": []
    },
    {
      "cell_type": "code",
      "metadata": {
        "id": "r3rxlck-JyKz",
        "colab_type": "code",
        "colab": {
          "base_uri": "https://localhost:8080/",
          "height": 203
        },
        "outputId": "8d5a5537-7b8f-4608-8dc2-39c6f0150fa1"
      },
      "source": [
        "persons.show()"
      ],
      "execution_count": 11,
      "outputs": [
        {
          "output_type": "stream",
          "text": [
            "+---+------+-------+------+\n",
            "|age|height|   name|   sex|\n",
            "+---+------+-------+------+\n",
            "| 23|   156|  Alice|female|\n",
            "| 21|   181|    Bob|  male|\n",
            "| 27|   176|Charlie|  male|\n",
            "| 24|   167|    Eve|female|\n",
            "| 19|   172|Frances|female|\n",
            "| 31|   191| George|female|\n",
            "+---+------+-------+------+\n",
            "\n"
          ],
          "name": "stdout"
        }
      ]
    },
    {
      "cell_type": "code",
      "metadata": {
        "id": "jX5dU1ZJJ0Bt",
        "colab_type": "code",
        "colab": {
          "base_uri": "https://localhost:8080/",
          "height": 118
        },
        "outputId": "7f2b1aaf-e904-4cf6-a103-4f38a7b7b209"
      },
      "source": [
        "persons.printSchema()\n"
      ],
      "execution_count": 12,
      "outputs": [
        {
          "output_type": "stream",
          "text": [
            "root\n",
            " |-- age: integer (nullable = true)\n",
            " |-- height: integer (nullable = true)\n",
            " |-- name: string (nullable = true)\n",
            " |-- sex: string (nullable = true)\n",
            "\n"
          ],
          "name": "stdout"
        }
      ]
    },
    {
      "cell_type": "code",
      "metadata": {
        "id": "3WdLknQIJ1zT",
        "colab_type": "code",
        "colab": {
          "base_uri": "https://localhost:8080/",
          "height": 203
        },
        "outputId": "8a9d2d3a-750d-4045-f4b9-fbbb8eee15d2"
      },
      "source": [
        "result = persons.select(persons.name,persons.age)\n",
        "result.show()"
      ],
      "execution_count": 16,
      "outputs": [
        {
          "output_type": "stream",
          "text": [
            "+-------+---+\n",
            "|   name|age|\n",
            "+-------+---+\n",
            "|  Alice| 23|\n",
            "|    Bob| 21|\n",
            "|Charlie| 27|\n",
            "|    Eve| 24|\n",
            "|Frances| 19|\n",
            "| George| 31|\n",
            "+-------+---+\n",
            "\n"
          ],
          "name": "stdout"
        }
      ]
    },
    {
      "cell_type": "code",
      "metadata": {
        "id": "JaSyxVoNJ67g",
        "colab_type": "code",
        "colab": {}
      },
      "source": [
        "result = persons.select(persons.name,upper(persons.name))"
      ],
      "execution_count": 0,
      "outputs": []
    },
    {
      "cell_type": "code",
      "metadata": {
        "id": "wUSYc0PoQ4Or",
        "colab_type": "code",
        "colab": {
          "base_uri": "https://localhost:8080/",
          "height": 203
        },
        "outputId": "75268b71-174f-4d00-d40f-2deb8853c589"
      },
      "source": [
        "result.show()"
      ],
      "execution_count": 19,
      "outputs": [
        {
          "output_type": "stream",
          "text": [
            "+-------+-----------+\n",
            "|   name|upper(name)|\n",
            "+-------+-----------+\n",
            "|  Alice|      ALICE|\n",
            "|    Bob|        BOB|\n",
            "|Charlie|    CHARLIE|\n",
            "|    Eve|        EVE|\n",
            "|Frances|    FRANCES|\n",
            "| George|     GEORGE|\n",
            "+-------+-----------+\n",
            "\n"
          ],
          "name": "stdout"
        }
      ]
    },
    {
      "cell_type": "code",
      "metadata": {
        "id": "XhbGoxQaQ66x",
        "colab_type": "code",
        "colab": {}
      },
      "source": [
        "result_alias = persons.select(persons.name,upper(persons.name)).alias('names_new')"
      ],
      "execution_count": 0,
      "outputs": []
    },
    {
      "cell_type": "code",
      "metadata": {
        "id": "zb1bvRCORHG0",
        "colab_type": "code",
        "colab": {
          "base_uri": "https://localhost:8080/",
          "height": 203
        },
        "outputId": "dcd6d108-fade-40d4-cd3d-3fa9d1371da2"
      },
      "source": [
        "result_alias.show()"
      ],
      "execution_count": 22,
      "outputs": [
        {
          "output_type": "stream",
          "text": [
            "+-------+-----------+\n",
            "|   name|upper(name)|\n",
            "+-------+-----------+\n",
            "|  Alice|      ALICE|\n",
            "|    Bob|        BOB|\n",
            "|Charlie|    CHARLIE|\n",
            "|    Eve|        EVE|\n",
            "|Frances|    FRANCES|\n",
            "| George|     GEORGE|\n",
            "+-------+-----------+\n",
            "\n"
          ],
          "name": "stdout"
        }
      ]
    },
    {
      "cell_type": "code",
      "metadata": {
        "id": "UhSd82daRNON",
        "colab_type": "code",
        "colab": {}
      },
      "source": [
        "result_alias = persons.select(persons.name,(persons.age**2).alias('age_sqr'))"
      ],
      "execution_count": 0,
      "outputs": []
    },
    {
      "cell_type": "code",
      "metadata": {
        "id": "3RGQy3dPRfwD",
        "colab_type": "code",
        "colab": {
          "base_uri": "https://localhost:8080/",
          "height": 203
        },
        "outputId": "8c8be5ab-099b-447b-fd80-921a7f099e13"
      },
      "source": [
        "result_alias.show()"
      ],
      "execution_count": 24,
      "outputs": [
        {
          "output_type": "stream",
          "text": [
            "+-------+-------+\n",
            "|   name|age_sqr|\n",
            "+-------+-------+\n",
            "|  Alice|  529.0|\n",
            "|    Bob|  441.0|\n",
            "|Charlie|  729.0|\n",
            "|    Eve|  576.0|\n",
            "|Frances|  361.0|\n",
            "| George|  961.0|\n",
            "+-------+-------+\n",
            "\n"
          ],
          "name": "stdout"
        }
      ]
    },
    {
      "cell_type": "code",
      "metadata": {
        "id": "i2LAK5FuRiQj",
        "colab_type": "code",
        "colab": {
          "base_uri": "https://localhost:8080/",
          "height": 203
        },
        "outputId": "8bba595f-71e1-41d1-f11f-71670e40930a"
      },
      "source": [
        "result = persons.select(concat(when(persons.sex == 'male', \"Mr \").otherwise(\"Mrs \"), persons.name).alias(\"salutation\"))\n",
        "result.show()"
      ],
      "execution_count": 25,
      "outputs": [
        {
          "output_type": "stream",
          "text": [
            "+-----------+\n",
            "| salutation|\n",
            "+-----------+\n",
            "|  Mrs Alice|\n",
            "|     Mr Bob|\n",
            "| Mr Charlie|\n",
            "|    Mrs Eve|\n",
            "|Mrs Frances|\n",
            "| Mrs George|\n",
            "+-----------+\n",
            "\n"
          ],
          "name": "stdout"
        }
      ]
    },
    {
      "cell_type": "code",
      "metadata": {
        "id": "-IhCVAHOVFja",
        "colab_type": "code",
        "colab": {}
      },
      "source": [
        ""
      ],
      "execution_count": 0,
      "outputs": []
    }
  ]
}